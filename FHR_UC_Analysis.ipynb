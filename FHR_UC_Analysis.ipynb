{
 "cells": [
  {
   "cell_type": "markdown",
   "id": "438a8455",
   "metadata": {},
   "source": [
    "# Fetal Heart Rate and Uterine Contraction Data Analysis"
   ]
  },
  {
   "cell_type": "markdown",
   "id": "bee09407",
   "metadata": {},
   "source": [
    "## Project Description"
   ]
  },
  {
   "cell_type": "markdown",
   "id": "b309ef7f",
   "metadata": {},
   "source": [
    "This project focuses on analyzing fetal heart rate (FHR) and uterine contraction (UC) data collected from medical devices monitoring labor progress. The primary goal is to extract meaningful insights from the data, including detecting key patterns and calculating important statistics, such as identifying peaks in uterine contractions and measuring their duration."
   ]
  },
  {
   "cell_type": "markdown",
   "id": "3cea48c9",
   "metadata": {},
   "source": [
    "## Key Objectives"
   ]
  },
  {
   "cell_type": "markdown",
   "id": "d382b43f",
   "metadata": {},
   "source": [
    "1. **Peak Detection**: Analyze UC data to detect significant peaks using signal processing techniques. Peaks correspond to uterine contractions, which are crucial indicators in labor monitoring."
   ]
  },
  {
   "cell_type": "markdown",
   "id": "63d3895b",
   "metadata": {},
   "source": [
    "2. **Peak Width Analysis**: For each detected UC peak, the width (duration) is calculated, and peaks wider than 30 seconds are identified. These wide peaks are often of particular interest in medical contexts, as they may indicate sustained contractions."
   ]
  },
  {
   "cell_type": "markdown",
   "id": "0efc0a9f",
   "metadata": {},
   "source": [
    "3. **Duration Calculation**: Once wide peaks are detected, the average duration of these peaks is calculated to provide an overall understanding of the UC patterns over time."
   ]
  },
  {
   "cell_type": "markdown",
   "id": "87176138",
   "metadata": {},
   "source": [
    "4. **Graphical Representation**: The data is visualized in graphs for a clearer understanding of the trends and patterns in both fetal heart rate and uterine contractions."
   ]
  },
  {
   "cell_type": "markdown",
   "id": "3477e2d7",
   "metadata": {},
   "source": [
    "## Tools and Techniques"
   ]
  },
  {
   "cell_type": "markdown",
   "id": "dbea5210",
   "metadata": {},
   "source": [
    "- **Python**: The entire analysis is done in Python using libraries like `pandas` for data manipulation, `scipy.signal` for peak detection, and `matplotlib` for data visualization."
   ]
  },
  {
   "cell_type": "markdown",
   "id": "a2e7fe03",
   "metadata": {},
   "source": [
    "- **Data Processing**: The project involves reading time-series data (FHR and UC) from CSV files and performing signal processing to identify meaningful patterns."
   ]
  },
  {
   "cell_type": "markdown",
   "id": "2b75f35a",
   "metadata": {},
   "source": [
    "- **Peak Detection**: Using `scipy.signal.find_peaks`, the peaks in the UC data are detected and analyzed."
   ]
  },
  {
   "cell_type": "markdown",
   "id": "e7819dc3",
   "metadata": {},
   "source": [
    "- **Graphing**: FHR and UC data are plotted for visual inspection of trends and correlation between fetal heart rate and uterine contractions."
   ]
  },
  {
   "cell_type": "markdown",
   "id": "b4d90446",
   "metadata": {},
   "source": [
    "## Code"
   ]
  },
  {
   "cell_type": "code",
   "execution_count": null,
   "id": "93113c2b",
   "metadata": {},
   "outputs": [],
   "source": [
    "\n",
    "import pandas as pd\n",
    "import numpy as np\n",
    "import matplotlib.pyplot as plt\n",
    "from scipy.signal import find_peaks, peak_widths\n",
    "\n",
    "# Load the dataset\n",
    "data = pd.read_csv('your_data_file.csv')  # Replace with your actual data file\n",
    "\n",
    "# 1. Plotting FHR and UC Data\n",
    "plt.figure(figsize=(10, 8))\n",
    "\n",
    "# FHR Plot\n",
    "plt.subplot(2, 1, 1)\n",
    "plt.plot(data['Time(ms)'] / 1000, data['Fhr1(BPM)'], color='blue')\n",
    "plt.title('Time vs FHR')\n",
    "plt.xlabel('Time (seconds)')\n",
    "plt.ylabel('FHR (bpm)')\n",
    "plt.grid()\n",
    "\n",
    "# UC Plot\n",
    "plt.subplot(2, 1, 2)\n",
    "plt.plot(data['Time(ms)'] / 1000, data['Uc(TOCO)'], color='orange')\n",
    "plt.title('Time vs UC')\n",
    "plt.xlabel('Time (seconds)')\n",
    "plt.ylabel('UC (TOCO)')\n",
    "plt.grid()\n",
    "\n",
    "plt.tight_layout()\n",
    "plt.show()\n",
    "\n",
    "# 2. UC Peak Detection\n",
    "peaks, _ = find_peaks(data['Uc(TOCO)'], height=5)  # Adjust height threshold as necessary\n",
    "\n",
    "# Calculate peak widths at half maximum\n",
    "widths, width_heights, left_ips, right_ips = peak_widths(data['Uc(TOCO)'], peaks, rel_height=0.5)\n",
    "\n",
    "# Convert widths from data points to seconds (each data point is 0.25 seconds)\n",
    "peak_widths_sec = widths * 0.25\n",
    "\n",
    "# Count peaks where the width is more than 30 seconds\n",
    "wide_peaks_count = np.sum(peak_widths_sec > 30)\n",
    "\n",
    "# Calculate the average duration of counted UC peaks\n",
    "if wide_peaks_count > 0:\n",
    "    avg_peak_duration = np.mean(peak_widths_sec[peak_widths_sec > 30])\n",
    "else:\n",
    "    avg_peak_duration = 0\n",
    "\n",
    "# Display peak analysis\n",
    "print(f\"Number of peaks wider than 30 seconds: {wide_peaks_count}\")\n",
    "print(f\"Average duration of wide UC peaks: {avg_peak_duration:.2f} seconds\")\n"
   ]
  }
 ],
 "metadata": {},
 "nbformat": 4,
 "nbformat_minor": 5
}
